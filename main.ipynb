{
 "cells": [
  {
   "cell_type": "code",
   "execution_count": 1,
   "metadata": {},
   "outputs": [
    {
     "name": "stdout",
     "output_type": "stream",
     "text": [
      "Looking in indexes: https://download.pytorch.org/whl/cu118\n",
      "Requirement already satisfied: xgboost in /home/linuxbrew/.linuxbrew/opt/python@3.11/lib/python3.11/site-packages (2.0.3)\n",
      "Requirement already satisfied: scikit-learn in /home/linuxbrew/.linuxbrew/opt/python@3.11/lib/python3.11/site-packages (1.4.2)\n",
      "Requirement already satisfied: numpy in /home/linuxbrew/.linuxbrew/opt/python@3.11/lib/python3.11/site-packages (1.24.3)\n",
      "Requirement already satisfied: pandas in /home/linuxbrew/.linuxbrew/opt/python@3.11/lib/python3.11/site-packages (2.0.1)\n",
      "Requirement already satisfied: torch in /home/linuxbrew/.linuxbrew/opt/python@3.11/lib/python3.11/site-packages (2.0.1+cu118)\n",
      "Requirement already satisfied: torchvision in /home/linuxbrew/.linuxbrew/opt/python@3.11/lib/python3.11/site-packages (0.15.2)\n",
      "Requirement already satisfied: torchaudio in /home/linuxbrew/.linuxbrew/opt/python@3.11/lib/python3.11/site-packages (2.0.2)\n",
      "Requirement already satisfied: scipy in /home/linuxbrew/.linuxbrew/opt/python@3.11/lib/python3.11/site-packages (from xgboost) (1.11.1)\n",
      "Requirement already satisfied: joblib>=1.2.0 in /home/linuxbrew/.linuxbrew/opt/python@3.11/lib/python3.11/site-packages (from scikit-learn) (1.4.0)\n",
      "Requirement already satisfied: threadpoolctl>=2.0.0 in /home/linuxbrew/.linuxbrew/opt/python@3.11/lib/python3.11/site-packages (from scikit-learn) (3.5.0)\n",
      "Requirement already satisfied: python-dateutil>=2.8.2 in /home/linuxbrew/.linuxbrew/opt/python@3.11/lib/python3.11/site-packages (from pandas) (2.8.2)\n",
      "Requirement already satisfied: pytz>=2020.1 in /home/linuxbrew/.linuxbrew/opt/python@3.11/lib/python3.11/site-packages (from pandas) (2023.3)\n",
      "Requirement already satisfied: tzdata>=2022.1 in /home/linuxbrew/.linuxbrew/opt/python@3.11/lib/python3.11/site-packages (from pandas) (2023.3)\n",
      "Requirement already satisfied: filelock in /home/linuxbrew/.linuxbrew/opt/python@3.11/lib/python3.11/site-packages (from torch) (3.12.0)\n",
      "Requirement already satisfied: typing-extensions in /home/linuxbrew/.linuxbrew/opt/python@3.11/lib/python3.11/site-packages (from torch) (4.11.0)\n",
      "Requirement already satisfied: sympy in /home/linuxbrew/.linuxbrew/opt/python@3.11/lib/python3.11/site-packages (from torch) (1.12)\n",
      "Requirement already satisfied: networkx in /home/linuxbrew/.linuxbrew/opt/python@3.11/lib/python3.11/site-packages (from torch) (3.1)\n",
      "Requirement already satisfied: jinja2 in /home/linuxbrew/.linuxbrew/opt/python@3.11/lib/python3.11/site-packages (from torch) (3.1.2)\n",
      "Requirement already satisfied: triton==2.0.0 in /home/linuxbrew/.linuxbrew/opt/python@3.11/lib/python3.11/site-packages (from torch) (2.0.0)\n",
      "Requirement already satisfied: cmake in /home/linuxbrew/.linuxbrew/opt/python@3.11/lib/python3.11/site-packages (from triton==2.0.0->torch) (3.26.3)\n",
      "Requirement already satisfied: lit in /home/linuxbrew/.linuxbrew/opt/python@3.11/lib/python3.11/site-packages (from triton==2.0.0->torch) (16.0.3)\n",
      "Requirement already satisfied: requests in /home/linuxbrew/.linuxbrew/opt/python@3.11/lib/python3.11/site-packages (from torchvision) (2.31.0)\n",
      "Requirement already satisfied: pillow!=8.3.*,>=5.3.0 in /home/linuxbrew/.linuxbrew/opt/python@3.11/lib/python3.11/site-packages (from torchvision) (10.0.0)\n",
      "Requirement already satisfied: six>=1.5 in /home/linuxbrew/.linuxbrew/opt/python@3.11/lib/python3.11/site-packages (from python-dateutil>=2.8.2->pandas) (1.16.0)\n",
      "Requirement already satisfied: MarkupSafe>=2.0 in /home/linuxbrew/.linuxbrew/opt/python@3.11/lib/python3.11/site-packages (from jinja2->torch) (2.1.2)\n",
      "Requirement already satisfied: charset-normalizer<4,>=2 in /home/linuxbrew/.linuxbrew/opt/python@3.11/lib/python3.11/site-packages (from requests->torchvision) (3.2.0)\n",
      "Requirement already satisfied: idna<4,>=2.5 in /home/linuxbrew/.linuxbrew/opt/python@3.11/lib/python3.11/site-packages (from requests->torchvision) (3.4)\n",
      "Requirement already satisfied: urllib3<3,>=1.21.1 in /home/linuxbrew/.linuxbrew/opt/python@3.11/lib/python3.11/site-packages (from requests->torchvision) (2.0.4)\n",
      "Requirement already satisfied: certifi>=2017.4.17 in /home/furgo/.local/lib/python3.11/site-packages (from requests->torchvision) (2023.5.7)\n",
      "Requirement already satisfied: mpmath>=0.19 in /home/linuxbrew/.linuxbrew/opt/python@3.11/lib/python3.11/site-packages (from sympy->torch) (1.3.0)\n"
     ]
    }
   ],
   "source": [
    "!pip3 install xgboost scikit-learn numpy pandas torch torchvision torchaudio --index-url https://download.pytorch.org/whl/cu118"
   ]
  },
  {
   "cell_type": "code",
   "execution_count": 2,
   "metadata": {},
   "outputs": [],
   "source": [
    "import os\n",
    "import pandas as pd\n",
    "from sklearn.model_selection import train_test_split\n",
    "from sklearn.ensemble import RandomForestClassifier\n",
    "from sklearn.preprocessing import OneHotEncoder\n",
    "from xgboost import XGBClassifier\n",
    "\n",
    "data_dir = 'data'\n",
    "master_data_path = os.path.join(data_dir, 'ufc-master.csv')\n",
    "df = pd.read_csv(master_data_path)\n",
    "df.drop(columns=['date'], inplace=True)\n",
    "df.drop(columns=['finish_round_time'], inplace=True)\n",
    "\n",
    "categorical_columns = df.select_dtypes(include=['object', 'category']).columns.tolist()\n",
    "doesnt_need_ohe = df.drop(columns=categorical_columns)\n",
    "\n",
    "\n",
    "ohe = OneHotEncoder(sparse_output=False)\n",
    "needs_ohe = df[categorical_columns]\n",
    "\n",
    "encoded_categories = pd.DataFrame(ohe.fit_transform(needs_ohe), columns=ohe.get_feature_names_out(categorical_columns))\n",
    "encoded_df = pd.concat([doesnt_need_ohe, encoded_categories], axis=1)"
   ]
  },
  {
   "cell_type": "code",
   "execution_count": 3,
   "metadata": {},
   "outputs": [],
   "source": [
    "# print(\"BEFORE PREPROCESSING\")\n",
    "# print(df.head())\n",
    "# print(\"AFTER PREPROCESSING\")\n",
    "# print(encoded_df.head())\n"
   ]
  },
  {
   "cell_type": "code",
   "execution_count": 4,
   "metadata": {},
   "outputs": [],
   "source": [
    "X = encoded_df.copy()\n",
    "y = encoded_df['Winner_Blue']\n",
    "X.drop(columns=['Winner_Blue', 'Winner_Red'], inplace=True)\n",
    "\n",
    "rows, cols = X.shape\n"
   ]
  },
  {
   "cell_type": "code",
   "execution_count": 5,
   "metadata": {},
   "outputs": [],
   "source": [
    "X_train, X_test, y_train, y_test = train_test_split(X, y, test_size=0.2, random_state=31415, shuffle=True)"
   ]
  },
  {
   "cell_type": "code",
   "execution_count": 6,
   "metadata": {},
   "outputs": [],
   "source": [
    "rf_classifier = RandomForestClassifier(n_estimators=cols, random_state=31415)\n",
    "rf_classifier.fit(X_train, y_train)\n",
    "y_pred = rf_classifier.predict(X_test)"
   ]
  },
  {
   "cell_type": "code",
   "execution_count": null,
   "metadata": {},
   "outputs": [
    {
     "ename": "SyntaxError",
     "evalue": "incomplete input (1031887212.py, line 12)",
     "output_type": "error",
     "traceback": [
      "\u001b[0;36m  Cell \u001b[0;32mIn[226], line 12\u001b[0;36m\u001b[0m\n\u001b[0;31m    print(roc_auc_score(y_test, y_pred)\u001b[0m\n\u001b[0m                                       ^\u001b[0m\n\u001b[0;31mSyntaxError\u001b[0m\u001b[0;31m:\u001b[0m incomplete input\n"
     ]
    }
   ],
   "source": [
    "from sklearn.metrics import accuracy_score, classification_report, confusion_matrix\n",
    "from sklearn.metrics import roc_auc_score\n",
    "\n",
    "accuracy = accuracy_score(y_test, y_pred)\n",
    "print(f'Accuracy {accuracy:.2f}')\n",
    "print(\"Classification Report:\")\n",
    "print(classification_report(y_test, y_pred))\n",
    "\n",
    "print(\"Confusion Matrix:\")\n",
    "print(confusion_matrix(y_test, y_pred))\n",
    "\n",
    "print(roc_auc_score(y_test, y_pred))"
   ]
  },
  {
   "cell_type": "code",
   "execution_count": null,
   "metadata": {},
   "outputs": [
    {
     "name": "stderr",
     "output_type": "stream",
     "text": [
      "/home/linuxbrew/.linuxbrew/opt/python@3.11/lib/python3.11/site-packages/sklearn/utils/extmath.py:1137: RuntimeWarning: invalid value encountered in divide\n",
      "  updated_mean = (last_sum + new_sum) / updated_sample_count\n",
      "/home/linuxbrew/.linuxbrew/opt/python@3.11/lib/python3.11/site-packages/sklearn/utils/extmath.py:1142: RuntimeWarning: invalid value encountered in divide\n",
      "  T = new_sum / new_sample_count\n",
      "/home/linuxbrew/.linuxbrew/opt/python@3.11/lib/python3.11/site-packages/sklearn/utils/extmath.py:1162: RuntimeWarning: invalid value encountered in divide\n",
      "  new_unnormalized_variance -= correction**2 / new_sample_count\n"
     ]
    },
    {
     "name": "stdout",
     "output_type": "stream",
     "text": [
      "Accuracy: 63.47%\n"
     ]
    }
   ],
   "source": [
    "from sklearn.preprocessing import StandardScaler\n",
    "\n",
    "scaler = StandardScaler()\n",
    "X_train = scaler.fit_transform(X_train)\n",
    "X_test = scaler.transform(X_test)\n",
    "\n",
    "# Initialize the XGBoost classifier\n",
    "xgb_clf = XGBClassifier(use_label_encoder=False, eval_metric='mlogloss')\n",
    "\n",
    "# Train the model\n",
    "xgb_clf.fit(X_train, y_train)\n",
    "# Make predictions on the test set\n",
    "y_pred = xgb_clf.predict(X_test)\n",
    "\n",
    "# Evaluate the model\n",
    "accuracy = accuracy_score(y_test, y_pred)\n",
    "print(f'Accuracy: {accuracy * 100:.2f}%')"
   ]
  },
  {
   "cell_type": "code",
   "execution_count": null,
   "metadata": {},
   "outputs": [
    {
     "name": "stdout",
     "output_type": "stream",
     "text": [
      "Accuracy 0.63\n",
      "Classification Report:\n",
      "              precision    recall  f1-score   support\n",
      "\n",
      "         0.0       0.70      0.71      0.70       600\n",
      "         1.0       0.53      0.52      0.52       380\n",
      "\n",
      "    accuracy                           0.63       980\n",
      "   macro avg       0.61      0.61      0.61       980\n",
      "weighted avg       0.63      0.63      0.63       980\n",
      "\n",
      "Confusion Matrix:\n",
      "[[426 174]\n",
      " [184 196]]\n",
      "0.6128947368421053\n"
     ]
    }
   ],
   "source": [
    "from sklearn.metrics import accuracy_score, classification_report, confusion_matrix\n",
    "from sklearn.metrics import roc_auc_score\n",
    "\n",
    "accuracy = accuracy_score(y_test, y_pred)\n",
    "print(f'Accuracy {accuracy:.2f}')\n",
    "print(\"Classification Report:\")\n",
    "print(classification_report(y_test, y_pred))\n",
    "\n",
    "print(\"Confusion Matrix:\")\n",
    "print(confusion_matrix(y_test, y_pred))\n",
    "\n",
    "print(roc_auc_score(y_test, y_pred))"
   ]
  },
  {
   "cell_type": "code",
   "execution_count": null,
   "metadata": {},
   "outputs": [],
   "source": []
  }
 ],
 "metadata": {
  "interpreter": {
   "hash": "f9f85f796d01129d0dd105a088854619f454435301f6ffec2fea96ecbd9be4ac"
  },
  "kernelspec": {
   "display_name": "Python 3.9.5 64-bit",
   "language": "python",
   "name": "python3"
  },
  "language_info": {
   "codemirror_mode": {
    "name": "ipython",
    "version": 3
   },
   "file_extension": ".py",
   "mimetype": "text/x-python",
   "name": "python",
   "nbconvert_exporter": "python",
   "pygments_lexer": "ipython3",
   "version": "3.11.3"
  },
  "orig_nbformat": 4
 },
 "nbformat": 4,
 "nbformat_minor": 2
}
